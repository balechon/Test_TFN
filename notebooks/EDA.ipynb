{
 "cells": [
  {
   "cell_type": "code",
   "execution_count": 11,
   "metadata": {},
   "outputs": [
    {
     "name": "stdout",
     "output_type": "stream",
     "text": [
      "The autoreload extension is already loaded. To reload it, use:\n",
      "  %reload_ext autoreload\n"
     ]
    }
   ],
   "source": [
    "# para que los cambios en .scr se reflejen en el notebook\n",
    "%load_ext autoreload\n",
    "%autoreload 2"
   ]
  },
  {
   "cell_type": "code",
   "execution_count": 12,
   "metadata": {},
   "outputs": [
    {
     "data": {
      "text/plain": [
       "False"
      ]
     },
     "execution_count": 12,
     "metadata": {},
     "output_type": "execute_result"
    }
   ],
   "source": [
    "# para usar los modulos de src\n",
    "import sys\n",
    "from pathlib import Path\n",
    "notebook_path = Path().resolve()\n",
    "project_root = notebook_path.parent\n",
    "sys.path.append(str(project_root))\n",
    "\n",
    "# carga las variables de entorno\n",
    "from dotenv import load_dotenv\n",
    "load_dotenv()"
   ]
  },
  {
   "cell_type": "markdown",
   "metadata": {},
   "source": [
    "# EDA"
   ]
  },
  {
   "cell_type": "markdown",
   "metadata": {},
   "source": [
    "## librerias necesarias"
   ]
  },
  {
   "cell_type": "code",
   "execution_count": 36,
   "metadata": {},
   "outputs": [],
   "source": [
    "from src.utils.project_paths import RAW_DATA_DIR, ROOT_DIR, FIGURES_DIR\n",
    "from src.utils.plot_styles import PaletaPlotly\n",
    "import pandas as pd\n",
    "# para graficos\n",
    "import plotly\n",
    "import kaleido\n",
    "import plotly.express as px\n",
    "from plotly.subplots import make_subplots\n",
    "import plotly.graph_objects as go\n",
    "import plotly.io as pio \n",
    "import seaborn as sns"
   ]
  },
  {
   "cell_type": "code",
   "execution_count": 14,
   "metadata": {},
   "outputs": [],
   "source": [
    "paleta = PaletaPlotly()"
   ]
  },
  {
   "cell_type": "markdown",
   "metadata": {},
   "source": [
    "### cargar los archivos"
   ]
  },
  {
   "cell_type": "code",
   "execution_count": 15,
   "metadata": {},
   "outputs": [],
   "source": [
    "data_file_path = RAW_DATA_DIR / 'CARTERA_PRUEBA_TECNICA.csv'\n",
    "if data_file_path.exists():\n",
    "    df_cartera = pd.read_csv(data_file_path)\n",
    "else:\n",
    "    print(f'No existe el archivo {data_file_path}')"
   ]
  },
  {
   "cell_type": "code",
   "execution_count": 16,
   "metadata": {},
   "outputs": [
    {
     "name": "stdout",
     "output_type": "stream",
     "text": [
      "(21499, 41)\n"
     ]
    },
    {
     "data": {
      "text/html": [
       "<div>\n",
       "<style scoped>\n",
       "    .dataframe tbody tr th:only-of-type {\n",
       "        vertical-align: middle;\n",
       "    }\n",
       "\n",
       "    .dataframe tbody tr th {\n",
       "        vertical-align: top;\n",
       "    }\n",
       "\n",
       "    .dataframe thead th {\n",
       "        text-align: right;\n",
       "    }\n",
       "</style>\n",
       "<table border=\"1\" class=\"dataframe\">\n",
       "  <thead>\n",
       "    <tr style=\"text-align: right;\">\n",
       "      <th></th>\n",
       "      <th>aniomes</th>\n",
       "      <th>telefono</th>\n",
       "      <th>account_num</th>\n",
       "      <th>target</th>\n",
       "      <th>vnc_no</th>\n",
       "      <th>vencimiento</th>\n",
       "      <th>decil_max_ultimos3m_totalmonto</th>\n",
       "      <th>decil_max_ultimos3m_pago</th>\n",
       "      <th>forma_pago</th>\n",
       "      <th>datos_curso_q</th>\n",
       "      <th>...</th>\n",
       "      <th>max_trimestral_sobrefacturacion</th>\n",
       "      <th>pct_datos_4g</th>\n",
       "      <th>no_exitoso</th>\n",
       "      <th>monto_total_cp_ultimomes</th>\n",
       "      <th>promedio_semestral_sobrefacturacion</th>\n",
       "      <th>cantidad_minutos_mes</th>\n",
       "      <th>max_ultimos3m_pago</th>\n",
       "      <th>n_entrantes_offnet</th>\n",
       "      <th>monto_pago_cp_ultimomes</th>\n",
       "      <th>conteo_vecesen_finterm</th>\n",
       "    </tr>\n",
       "  </thead>\n",
       "  <tbody>\n",
       "    <tr>\n",
       "      <th>0</th>\n",
       "      <td>202401</td>\n",
       "      <td>1773210294</td>\n",
       "      <td>1812120285</td>\n",
       "      <td>0</td>\n",
       "      <td>0.0</td>\n",
       "      <td>0.0</td>\n",
       "      <td>9</td>\n",
       "      <td>9</td>\n",
       "      <td>DOMICILIADO</td>\n",
       "      <td>1</td>\n",
       "      <td>...</td>\n",
       "      <td>0.871757</td>\n",
       "      <td>0.966336</td>\n",
       "      <td>87.0</td>\n",
       "      <td>36.69</td>\n",
       "      <td>0.826413</td>\n",
       "      <td>513.449994</td>\n",
       "      <td>113.69</td>\n",
       "      <td>63</td>\n",
       "      <td>36.69</td>\n",
       "      <td>0</td>\n",
       "    </tr>\n",
       "    <tr>\n",
       "      <th>1</th>\n",
       "      <td>202312</td>\n",
       "      <td>1284496476</td>\n",
       "      <td>1258714049</td>\n",
       "      <td>0</td>\n",
       "      <td>1.0</td>\n",
       "      <td>0.0</td>\n",
       "      <td>2</td>\n",
       "      <td>2</td>\n",
       "      <td>DOMICILIADO</td>\n",
       "      <td>2</td>\n",
       "      <td>...</td>\n",
       "      <td>1.044287</td>\n",
       "      <td>0.000000</td>\n",
       "      <td>27.0</td>\n",
       "      <td>10.99</td>\n",
       "      <td>0.000000</td>\n",
       "      <td>3.866667</td>\n",
       "      <td>33.87</td>\n",
       "      <td>6</td>\n",
       "      <td>10.99</td>\n",
       "      <td>0</td>\n",
       "    </tr>\n",
       "    <tr>\n",
       "      <th>2</th>\n",
       "      <td>202311</td>\n",
       "      <td>1312772779</td>\n",
       "      <td>1745686591</td>\n",
       "      <td>1</td>\n",
       "      <td>1.0</td>\n",
       "      <td>1.0</td>\n",
       "      <td>4</td>\n",
       "      <td>4</td>\n",
       "      <td>NO_DOMICILIADO</td>\n",
       "      <td>3</td>\n",
       "      <td>...</td>\n",
       "      <td>0.851603</td>\n",
       "      <td>0.967840</td>\n",
       "      <td>100.0</td>\n",
       "      <td>13.03</td>\n",
       "      <td>0.833982</td>\n",
       "      <td>33.233334</td>\n",
       "      <td>40.23</td>\n",
       "      <td>29</td>\n",
       "      <td>13.03</td>\n",
       "      <td>0</td>\n",
       "    </tr>\n",
       "    <tr>\n",
       "      <th>3</th>\n",
       "      <td>202312</td>\n",
       "      <td>1886941825</td>\n",
       "      <td>1930858772</td>\n",
       "      <td>1</td>\n",
       "      <td>1.0</td>\n",
       "      <td>1.0</td>\n",
       "      <td>2</td>\n",
       "      <td>2</td>\n",
       "      <td>NO_DOMICILIADO</td>\n",
       "      <td>3</td>\n",
       "      <td>...</td>\n",
       "      <td>0.892761</td>\n",
       "      <td>0.476536</td>\n",
       "      <td>120.0</td>\n",
       "      <td>11.19</td>\n",
       "      <td>0.892761</td>\n",
       "      <td>184.533333</td>\n",
       "      <td>33.57</td>\n",
       "      <td>153</td>\n",
       "      <td>11.19</td>\n",
       "      <td>0</td>\n",
       "    </tr>\n",
       "    <tr>\n",
       "      <th>4</th>\n",
       "      <td>202312</td>\n",
       "      <td>1124231538</td>\n",
       "      <td>1411143386</td>\n",
       "      <td>0</td>\n",
       "      <td>1.0</td>\n",
       "      <td>0.0</td>\n",
       "      <td>7</td>\n",
       "      <td>7</td>\n",
       "      <td>NO_DOMICILIADO</td>\n",
       "      <td>4</td>\n",
       "      <td>...</td>\n",
       "      <td>0.892946</td>\n",
       "      <td>0.923823</td>\n",
       "      <td>25.0</td>\n",
       "      <td>22.23</td>\n",
       "      <td>0.885270</td>\n",
       "      <td>5.733333</td>\n",
       "      <td>62.21</td>\n",
       "      <td>5</td>\n",
       "      <td>22.23</td>\n",
       "      <td>0</td>\n",
       "    </tr>\n",
       "  </tbody>\n",
       "</table>\n",
       "<p>5 rows × 41 columns</p>\n",
       "</div>"
      ],
      "text/plain": [
       "   aniomes    telefono  account_num  target  vnc_no  vencimiento  \\\n",
       "0   202401  1773210294   1812120285       0     0.0          0.0   \n",
       "1   202312  1284496476   1258714049       0     1.0          0.0   \n",
       "2   202311  1312772779   1745686591       1     1.0          1.0   \n",
       "3   202312  1886941825   1930858772       1     1.0          1.0   \n",
       "4   202312  1124231538   1411143386       0     1.0          0.0   \n",
       "\n",
       "   decil_max_ultimos3m_totalmonto  decil_max_ultimos3m_pago      forma_pago  \\\n",
       "0                               9                         9     DOMICILIADO   \n",
       "1                               2                         2     DOMICILIADO   \n",
       "2                               4                         4  NO_DOMICILIADO   \n",
       "3                               2                         2  NO_DOMICILIADO   \n",
       "4                               7                         7  NO_DOMICILIADO   \n",
       "\n",
       "   datos_curso_q  ... max_trimestral_sobrefacturacion  pct_datos_4g  \\\n",
       "0              1  ...                        0.871757      0.966336   \n",
       "1              2  ...                        1.044287      0.000000   \n",
       "2              3  ...                        0.851603      0.967840   \n",
       "3              3  ...                        0.892761      0.476536   \n",
       "4              4  ...                        0.892946      0.923823   \n",
       "\n",
       "   no_exitoso  monto_total_cp_ultimomes  promedio_semestral_sobrefacturacion  \\\n",
       "0        87.0                     36.69                             0.826413   \n",
       "1        27.0                     10.99                             0.000000   \n",
       "2       100.0                     13.03                             0.833982   \n",
       "3       120.0                     11.19                             0.892761   \n",
       "4        25.0                     22.23                             0.885270   \n",
       "\n",
       "   cantidad_minutos_mes  max_ultimos3m_pago  n_entrantes_offnet  \\\n",
       "0            513.449994              113.69                  63   \n",
       "1              3.866667               33.87                   6   \n",
       "2             33.233334               40.23                  29   \n",
       "3            184.533333               33.57                 153   \n",
       "4              5.733333               62.21                   5   \n",
       "\n",
       "   monto_pago_cp_ultimomes  conteo_vecesen_finterm  \n",
       "0                    36.69                       0  \n",
       "1                    10.99                       0  \n",
       "2                    13.03                       0  \n",
       "3                    11.19                       0  \n",
       "4                    22.23                       0  \n",
       "\n",
       "[5 rows x 41 columns]"
      ]
     },
     "execution_count": 16,
     "metadata": {},
     "output_type": "execute_result"
    }
   ],
   "source": [
    "# vistazo a los datos\n",
    "print(df_cartera.shape)\n",
    "df_cartera.head()"
   ]
  },
  {
   "cell_type": "code",
   "execution_count": 17,
   "metadata": {},
   "outputs": [
    {
     "name": "stdout",
     "output_type": "stream",
     "text": [
      "<class 'pandas.core.frame.DataFrame'>\n",
      "RangeIndex: 21499 entries, 0 to 21498\n",
      "Data columns (total 41 columns):\n",
      " #   Column                               Non-Null Count  Dtype  \n",
      "---  ------                               --------------  -----  \n",
      " 0   aniomes                              21499 non-null  int64  \n",
      " 1   telefono                             21499 non-null  int64  \n",
      " 2   account_num                          21499 non-null  int64  \n",
      " 3   target                               21499 non-null  int64  \n",
      " 4   vnc_no                               20424 non-null  float64\n",
      " 5   vencimiento                          20424 non-null  float64\n",
      " 6   decil_max_ultimos3m_totalmonto       21499 non-null  int64  \n",
      " 7   decil_max_ultimos3m_pago             21499 non-null  int64  \n",
      " 8   forma_pago                           21499 non-null  object \n",
      " 9   datos_curso_q                        21499 non-null  int64  \n",
      " 10  susp_cobranza                        21499 non-null  object \n",
      " 11  max_diferencia_dias_ultimos3m        21499 non-null  int64  \n",
      " 12  n_ses_datos                          21499 non-null  int64  \n",
      " 13  promedio_ultimos3m_finterm           21499 non-null  float64\n",
      " 14  pct_datos_3g                         21499 non-null  float64\n",
      " 15  datos_curso                          21499 non-null  float64\n",
      " 16  dias_hasta_elpago_ultimomes          21141 non-null  float64\n",
      " 17  sobrefacturacion                     21499 non-null  float64\n",
      " 18  promedio_ultimos3m_mora              21499 non-null  float64\n",
      " 19  tot_dow_datos_3g                     21499 non-null  float64\n",
      " 20  tot_up_datos_4g                      21499 non-null  float64\n",
      " 21  edad                                 21499 non-null  float64\n",
      " 22  pct_pagos                            21499 non-null  float64\n",
      " 23  ratio_recurrencia_cartera            21499 non-null  float64\n",
      " 24  sum_min_entrantes_offnet             21499 non-null  float64\n",
      " 25  arpu_                                21499 non-null  float64\n",
      " 26  n_salientes_offnet                   20424 non-null  float64\n",
      " 27  tot_dura_datos_2g                    21499 non-null  float64\n",
      " 28  prom_num_fechas_pago_ultimos3m       21499 non-null  float64\n",
      " 29  antiguedad                           21499 non-null  int64  \n",
      " 30  sum_min_salientes_onnet              21499 non-null  float64\n",
      " 31  max_trimestral_sobrefacturacion      21499 non-null  float64\n",
      " 32  pct_datos_4g                         21499 non-null  float64\n",
      " 33  no_exitoso                           21499 non-null  float64\n",
      " 34  monto_total_cp_ultimomes             21499 non-null  float64\n",
      " 35  promedio_semestral_sobrefacturacion  21499 non-null  float64\n",
      " 36  cantidad_minutos_mes                 21499 non-null  float64\n",
      " 37  max_ultimos3m_pago                   21499 non-null  float64\n",
      " 38  n_entrantes_offnet                   21499 non-null  int64  \n",
      " 39  monto_pago_cp_ultimomes              21499 non-null  float64\n",
      " 40  conteo_vecesen_finterm               21499 non-null  int64  \n",
      "dtypes: float64(27), int64(12), object(2)\n",
      "memory usage: 6.7+ MB\n"
     ]
    }
   ],
   "source": [
    "df_cartera.info()"
   ]
  },
  {
   "cell_type": "code",
   "execution_count": 35,
   "metadata": {},
   "outputs": [
    {
     "data": {
      "text/html": [
       "<div>\n",
       "<style scoped>\n",
       "    .dataframe tbody tr th:only-of-type {\n",
       "        vertical-align: middle;\n",
       "    }\n",
       "\n",
       "    .dataframe tbody tr th {\n",
       "        vertical-align: top;\n",
       "    }\n",
       "\n",
       "    .dataframe thead th {\n",
       "        text-align: right;\n",
       "    }\n",
       "</style>\n",
       "<table border=\"1\" class=\"dataframe\">\n",
       "  <thead>\n",
       "    <tr style=\"text-align: right;\">\n",
       "      <th></th>\n",
       "      <th>vnc_no</th>\n",
       "      <th>vencimiento</th>\n",
       "      <th>decil_max_ultimos3m_totalmonto</th>\n",
       "      <th>decil_max_ultimos3m_pago</th>\n",
       "      <th>datos_curso_q</th>\n",
       "      <th>max_diferencia_dias_ultimos3m</th>\n",
       "      <th>n_ses_datos</th>\n",
       "      <th>promedio_ultimos3m_finterm</th>\n",
       "      <th>pct_datos_3g</th>\n",
       "      <th>datos_curso</th>\n",
       "      <th>...</th>\n",
       "      <th>max_trimestral_sobrefacturacion</th>\n",
       "      <th>pct_datos_4g</th>\n",
       "      <th>no_exitoso</th>\n",
       "      <th>monto_total_cp_ultimomes</th>\n",
       "      <th>promedio_semestral_sobrefacturacion</th>\n",
       "      <th>cantidad_minutos_mes</th>\n",
       "      <th>max_ultimos3m_pago</th>\n",
       "      <th>n_entrantes_offnet</th>\n",
       "      <th>monto_pago_cp_ultimomes</th>\n",
       "      <th>conteo_vecesen_finterm</th>\n",
       "    </tr>\n",
       "  </thead>\n",
       "  <tbody>\n",
       "    <tr>\n",
       "      <th>count</th>\n",
       "      <td>20424.000000</td>\n",
       "      <td>20424.000000</td>\n",
       "      <td>21499.000000</td>\n",
       "      <td>21499.000000</td>\n",
       "      <td>21499.000000</td>\n",
       "      <td>21499.000000</td>\n",
       "      <td>21499.000000</td>\n",
       "      <td>21499.000000</td>\n",
       "      <td>21499.000000</td>\n",
       "      <td>21499.000000</td>\n",
       "      <td>...</td>\n",
       "      <td>21499.000000</td>\n",
       "      <td>21499.000000</td>\n",
       "      <td>21499.000000</td>\n",
       "      <td>21499.000000</td>\n",
       "      <td>21499.000000</td>\n",
       "      <td>21499.000000</td>\n",
       "      <td>21499.000000</td>\n",
       "      <td>21499.000000</td>\n",
       "      <td>21499.000000</td>\n",
       "      <td>21499.000000</td>\n",
       "    </tr>\n",
       "    <tr>\n",
       "      <th>mean</th>\n",
       "      <td>0.884694</td>\n",
       "      <td>0.625685</td>\n",
       "      <td>5.891111</td>\n",
       "      <td>5.885250</td>\n",
       "      <td>2.785060</td>\n",
       "      <td>25.632215</td>\n",
       "      <td>4095.824131</td>\n",
       "      <td>14.000217</td>\n",
       "      <td>0.146385</td>\n",
       "      <td>10286.601360</td>\n",
       "      <td>...</td>\n",
       "      <td>0.882989</td>\n",
       "      <td>0.813277</td>\n",
       "      <td>102.479070</td>\n",
       "      <td>25.520961</td>\n",
       "      <td>0.749510</td>\n",
       "      <td>172.016371</td>\n",
       "      <td>66.810356</td>\n",
       "      <td>53.939020</td>\n",
       "      <td>23.399082</td>\n",
       "      <td>1.882413</td>\n",
       "    </tr>\n",
       "    <tr>\n",
       "      <th>std</th>\n",
       "      <td>0.319398</td>\n",
       "      <td>0.483957</td>\n",
       "      <td>3.669630</td>\n",
       "      <td>3.659754</td>\n",
       "      <td>1.350683</td>\n",
       "      <td>28.978778</td>\n",
       "      <td>3474.424103</td>\n",
       "      <td>84.588692</td>\n",
       "      <td>0.252551</td>\n",
       "      <td>12437.778407</td>\n",
       "      <td>...</td>\n",
       "      <td>6.157047</td>\n",
       "      <td>0.300584</td>\n",
       "      <td>127.309622</td>\n",
       "      <td>53.388678</td>\n",
       "      <td>0.524997</td>\n",
       "      <td>310.362505</td>\n",
       "      <td>75.396365</td>\n",
       "      <td>64.980932</td>\n",
       "      <td>40.134227</td>\n",
       "      <td>5.176882</td>\n",
       "    </tr>\n",
       "    <tr>\n",
       "      <th>min</th>\n",
       "      <td>0.000000</td>\n",
       "      <td>0.000000</td>\n",
       "      <td>1.000000</td>\n",
       "      <td>1.000000</td>\n",
       "      <td>1.000000</td>\n",
       "      <td>-310.000000</td>\n",
       "      <td>0.000000</td>\n",
       "      <td>-0.000460</td>\n",
       "      <td>0.000000</td>\n",
       "      <td>0.000000</td>\n",
       "      <td>...</td>\n",
       "      <td>-0.131485</td>\n",
       "      <td>0.000000</td>\n",
       "      <td>0.000000</td>\n",
       "      <td>0.000000</td>\n",
       "      <td>-1.721921</td>\n",
       "      <td>0.000000</td>\n",
       "      <td>-0.001270</td>\n",
       "      <td>0.000000</td>\n",
       "      <td>0.000000</td>\n",
       "      <td>0.000000</td>\n",
       "    </tr>\n",
       "    <tr>\n",
       "      <th>25%</th>\n",
       "      <td>1.000000</td>\n",
       "      <td>0.000000</td>\n",
       "      <td>3.000000</td>\n",
       "      <td>3.000000</td>\n",
       "      <td>2.000000</td>\n",
       "      <td>13.000000</td>\n",
       "      <td>1969.500000</td>\n",
       "      <td>0.000000</td>\n",
       "      <td>0.013229</td>\n",
       "      <td>3149.491606</td>\n",
       "      <td>...</td>\n",
       "      <td>0.702985</td>\n",
       "      <td>0.833105</td>\n",
       "      <td>35.000000</td>\n",
       "      <td>12.790000</td>\n",
       "      <td>0.410532</td>\n",
       "      <td>31.491667</td>\n",
       "      <td>35.810000</td>\n",
       "      <td>18.000000</td>\n",
       "      <td>12.790000</td>\n",
       "      <td>0.000000</td>\n",
       "    </tr>\n",
       "    <tr>\n",
       "      <th>50%</th>\n",
       "      <td>1.000000</td>\n",
       "      <td>1.000000</td>\n",
       "      <td>6.000000</td>\n",
       "      <td>6.000000</td>\n",
       "      <td>3.000000</td>\n",
       "      <td>17.000000</td>\n",
       "      <td>3517.000000</td>\n",
       "      <td>0.000000</td>\n",
       "      <td>0.046908</td>\n",
       "      <td>7549.402596</td>\n",
       "      <td>...</td>\n",
       "      <td>0.889295</td>\n",
       "      <td>0.944180</td>\n",
       "      <td>74.000000</td>\n",
       "      <td>16.800000</td>\n",
       "      <td>0.862421</td>\n",
       "      <td>88.866667</td>\n",
       "      <td>49.480000</td>\n",
       "      <td>37.000000</td>\n",
       "      <td>16.800000</td>\n",
       "      <td>0.000000</td>\n",
       "    </tr>\n",
       "    <tr>\n",
       "      <th>75%</th>\n",
       "      <td>1.000000</td>\n",
       "      <td>1.000000</td>\n",
       "      <td>8.000000</td>\n",
       "      <td>8.000000</td>\n",
       "      <td>4.000000</td>\n",
       "      <td>28.000000</td>\n",
       "      <td>5425.000000</td>\n",
       "      <td>0.000000</td>\n",
       "      <td>0.133215</td>\n",
       "      <td>13574.340593</td>\n",
       "      <td>...</td>\n",
       "      <td>0.898774</td>\n",
       "      <td>0.982295</td>\n",
       "      <td>130.000000</td>\n",
       "      <td>25.570000</td>\n",
       "      <td>0.893220</td>\n",
       "      <td>201.858333</td>\n",
       "      <td>73.095000</td>\n",
       "      <td>70.000000</td>\n",
       "      <td>25.320000</td>\n",
       "      <td>1.000000</td>\n",
       "    </tr>\n",
       "    <tr>\n",
       "      <th>max</th>\n",
       "      <td>1.000000</td>\n",
       "      <td>1.000000</td>\n",
       "      <td>20.000000</td>\n",
       "      <td>20.000000</td>\n",
       "      <td>5.000000</td>\n",
       "      <td>649.000000</td>\n",
       "      <td>153347.000000</td>\n",
       "      <td>2649.000000</td>\n",
       "      <td>1.000000</td>\n",
       "      <td>493711.993183</td>\n",
       "      <td>...</td>\n",
       "      <td>893.000000</td>\n",
       "      <td>1.000000</td>\n",
       "      <td>6209.000000</td>\n",
       "      <td>2665.600000</td>\n",
       "      <td>25.273585</td>\n",
       "      <td>11877.099931</td>\n",
       "      <td>2698.800000</td>\n",
       "      <td>3462.000000</td>\n",
       "      <td>2665.600000</td>\n",
       "      <td>29.000000</td>\n",
       "    </tr>\n",
       "  </tbody>\n",
       "</table>\n",
       "<p>8 rows × 35 columns</p>\n",
       "</div>"
      ],
      "text/plain": [
       "             vnc_no   vencimiento  decil_max_ultimos3m_totalmonto  \\\n",
       "count  20424.000000  20424.000000                    21499.000000   \n",
       "mean       0.884694      0.625685                        5.891111   \n",
       "std        0.319398      0.483957                        3.669630   \n",
       "min        0.000000      0.000000                        1.000000   \n",
       "25%        1.000000      0.000000                        3.000000   \n",
       "50%        1.000000      1.000000                        6.000000   \n",
       "75%        1.000000      1.000000                        8.000000   \n",
       "max        1.000000      1.000000                       20.000000   \n",
       "\n",
       "       decil_max_ultimos3m_pago  datos_curso_q  max_diferencia_dias_ultimos3m  \\\n",
       "count              21499.000000   21499.000000                   21499.000000   \n",
       "mean                   5.885250       2.785060                      25.632215   \n",
       "std                    3.659754       1.350683                      28.978778   \n",
       "min                    1.000000       1.000000                    -310.000000   \n",
       "25%                    3.000000       2.000000                      13.000000   \n",
       "50%                    6.000000       3.000000                      17.000000   \n",
       "75%                    8.000000       4.000000                      28.000000   \n",
       "max                   20.000000       5.000000                     649.000000   \n",
       "\n",
       "         n_ses_datos  promedio_ultimos3m_finterm  pct_datos_3g    datos_curso  \\\n",
       "count   21499.000000                21499.000000  21499.000000   21499.000000   \n",
       "mean     4095.824131                   14.000217      0.146385   10286.601360   \n",
       "std      3474.424103                   84.588692      0.252551   12437.778407   \n",
       "min         0.000000                   -0.000460      0.000000       0.000000   \n",
       "25%      1969.500000                    0.000000      0.013229    3149.491606   \n",
       "50%      3517.000000                    0.000000      0.046908    7549.402596   \n",
       "75%      5425.000000                    0.000000      0.133215   13574.340593   \n",
       "max    153347.000000                 2649.000000      1.000000  493711.993183   \n",
       "\n",
       "       ...  max_trimestral_sobrefacturacion  pct_datos_4g    no_exitoso  \\\n",
       "count  ...                     21499.000000  21499.000000  21499.000000   \n",
       "mean   ...                         0.882989      0.813277    102.479070   \n",
       "std    ...                         6.157047      0.300584    127.309622   \n",
       "min    ...                        -0.131485      0.000000      0.000000   \n",
       "25%    ...                         0.702985      0.833105     35.000000   \n",
       "50%    ...                         0.889295      0.944180     74.000000   \n",
       "75%    ...                         0.898774      0.982295    130.000000   \n",
       "max    ...                       893.000000      1.000000   6209.000000   \n",
       "\n",
       "       monto_total_cp_ultimomes  promedio_semestral_sobrefacturacion  \\\n",
       "count              21499.000000                         21499.000000   \n",
       "mean                  25.520961                             0.749510   \n",
       "std                   53.388678                             0.524997   \n",
       "min                    0.000000                            -1.721921   \n",
       "25%                   12.790000                             0.410532   \n",
       "50%                   16.800000                             0.862421   \n",
       "75%                   25.570000                             0.893220   \n",
       "max                 2665.600000                            25.273585   \n",
       "\n",
       "       cantidad_minutos_mes  max_ultimos3m_pago  n_entrantes_offnet  \\\n",
       "count          21499.000000        21499.000000        21499.000000   \n",
       "mean             172.016371           66.810356           53.939020   \n",
       "std              310.362505           75.396365           64.980932   \n",
       "min                0.000000           -0.001270            0.000000   \n",
       "25%               31.491667           35.810000           18.000000   \n",
       "50%               88.866667           49.480000           37.000000   \n",
       "75%              201.858333           73.095000           70.000000   \n",
       "max            11877.099931         2698.800000         3462.000000   \n",
       "\n",
       "       monto_pago_cp_ultimomes  conteo_vecesen_finterm  \n",
       "count             21499.000000            21499.000000  \n",
       "mean                 23.399082                1.882413  \n",
       "std                  40.134227                5.176882  \n",
       "min                   0.000000                0.000000  \n",
       "25%                  12.790000                0.000000  \n",
       "50%                  16.800000                0.000000  \n",
       "75%                  25.320000                1.000000  \n",
       "max                2665.600000               29.000000  \n",
       "\n",
       "[8 rows x 35 columns]"
      ]
     },
     "execution_count": 35,
     "metadata": {},
     "output_type": "execute_result"
    }
   ],
   "source": [
    "df_cartera.drop(columns=['aniomes','telefono','account_num','target']).describe()"
   ]
  },
  {
   "cell_type": "markdown",
   "metadata": {},
   "source": [
    "El dataset contiene 40 dimensiones y 21499 filas con lo cual se tiene una buena proporcion de datos para realizar un modelo de machinne learnign\n",
    "ademas el dataset no contiene datos nulos\n",
    "se debe realizar transformaciones de datos para los atributos que son de tipo string pero a pesar de ello no habria mayor problema"
   ]
  },
  {
   "cell_type": "markdown",
   "metadata": {},
   "source": [
    "## Distribucion de los clientes que cayeron en mora"
   ]
  },
  {
   "cell_type": "code",
   "execution_count": 18,
   "metadata": {},
   "outputs": [
    {
     "data": {
      "text/html": [
       "<div>\n",
       "<style scoped>\n",
       "    .dataframe tbody tr th:only-of-type {\n",
       "        vertical-align: middle;\n",
       "    }\n",
       "\n",
       "    .dataframe tbody tr th {\n",
       "        vertical-align: top;\n",
       "    }\n",
       "\n",
       "    .dataframe thead th {\n",
       "        text-align: right;\n",
       "    }\n",
       "</style>\n",
       "<table border=\"1\" class=\"dataframe\">\n",
       "  <thead>\n",
       "    <tr style=\"text-align: right;\">\n",
       "      <th></th>\n",
       "      <th>target</th>\n",
       "      <th>count</th>\n",
       "      <th>proportion</th>\n",
       "    </tr>\n",
       "  </thead>\n",
       "  <tbody>\n",
       "    <tr>\n",
       "      <th>0</th>\n",
       "      <td>Si</td>\n",
       "      <td>11415</td>\n",
       "      <td>53.1</td>\n",
       "    </tr>\n",
       "    <tr>\n",
       "      <th>1</th>\n",
       "      <td>No</td>\n",
       "      <td>10084</td>\n",
       "      <td>46.9</td>\n",
       "    </tr>\n",
       "  </tbody>\n",
       "</table>\n",
       "</div>"
      ],
      "text/plain": [
       "  target  count  proportion\n",
       "0     Si  11415        53.1\n",
       "1     No  10084        46.9"
      ]
     },
     "execution_count": 18,
     "metadata": {},
     "output_type": "execute_result"
    }
   ],
   "source": [
    "series_target_count=df_cartera.value_counts('target')\n",
    "series_target_percentage=df_cartera.value_counts('target',normalize=True).mul(100).round(2)\n",
    "df_target=pd.concat([series_target_count,series_target_percentage],axis=1).reset_index()\n",
    "df_target['target']=df_target['target'].map({0:'No',1:'Si'})\n",
    "df_target"
   ]
  },
  {
   "cell_type": "code",
   "execution_count": 101,
   "metadata": {},
   "outputs": [
    {
     "data": {
      "application/vnd.plotly.v1+json": {
       "config": {
        "plotlyServerURL": "https://plot.ly"
       },
       "data": [
        {
         "alignmentgroup": "True",
         "hovertemplate": "target=%{x}<br>count=%{y}<extra></extra>",
         "legendgroup": "",
         "marker": {
          "color": "#0066FF",
          "pattern": {
           "shape": ""
          }
         },
         "name": "",
         "offsetgroup": "",
         "orientation": "v",
         "showlegend": false,
         "textfont": {
          "size": 12
         },
         "textposition": "outside",
         "texttemplate": "%{y}",
         "type": "bar",
         "x": [
          "Si",
          "No"
         ],
         "xaxis": "x",
         "y": [
          11415,
          10084
         ],
         "yaxis": "y"
        },
        {
         "alignmentgroup": "True",
         "hovertemplate": "target=%{x}<br>proportion=%{y}<extra></extra>",
         "legendgroup": "",
         "marker": {
          "color": "#0066FF",
          "pattern": {
           "shape": ""
          }
         },
         "name": "",
         "offsetgroup": "",
         "orientation": "v",
         "showlegend": false,
         "textfont": {
          "size": 12
         },
         "textposition": "outside",
         "texttemplate": "%{y:.1f}%",
         "type": "bar",
         "x": [
          "Si",
          "No"
         ],
         "xaxis": "x2",
         "y": [
          53.1,
          46.9
         ],
         "yaxis": "y2"
        }
       ],
       "layout": {
        "annotations": [
         {
          "font": {
           "size": 16
          },
          "showarrow": false,
          "text": "Cantidad",
          "x": 0.225,
          "xanchor": "center",
          "xref": "paper",
          "y": 1,
          "yanchor": "bottom",
          "yref": "paper"
         },
         {
          "font": {
           "size": 16
          },
          "showarrow": false,
          "text": "Porcentual",
          "x": 0.775,
          "xanchor": "center",
          "xref": "paper",
          "y": 1,
          "yanchor": "bottom",
          "yref": "paper"
         }
        ],
        "height": 600,
        "template": {
         "data": {
          "bar": [
           {
            "error_x": {
             "color": "#2a3f5f"
            },
            "error_y": {
             "color": "#2a3f5f"
            },
            "marker": {
             "line": {
              "color": "#E5ECF6",
              "width": 0.5
             },
             "pattern": {
              "fillmode": "overlay",
              "size": 10,
              "solidity": 0.2
             }
            },
            "type": "bar"
           }
          ],
          "barpolar": [
           {
            "marker": {
             "line": {
              "color": "#E5ECF6",
              "width": 0.5
             },
             "pattern": {
              "fillmode": "overlay",
              "size": 10,
              "solidity": 0.2
             }
            },
            "type": "barpolar"
           }
          ],
          "carpet": [
           {
            "aaxis": {
             "endlinecolor": "#2a3f5f",
             "gridcolor": "white",
             "linecolor": "white",
             "minorgridcolor": "white",
             "startlinecolor": "#2a3f5f"
            },
            "baxis": {
             "endlinecolor": "#2a3f5f",
             "gridcolor": "white",
             "linecolor": "white",
             "minorgridcolor": "white",
             "startlinecolor": "#2a3f5f"
            },
            "type": "carpet"
           }
          ],
          "choropleth": [
           {
            "colorbar": {
             "outlinewidth": 0,
             "ticks": ""
            },
            "type": "choropleth"
           }
          ],
          "contour": [
           {
            "colorbar": {
             "outlinewidth": 0,
             "ticks": ""
            },
            "colorscale": [
             [
              0,
              "#0d0887"
             ],
             [
              0.1111111111111111,
              "#46039f"
             ],
             [
              0.2222222222222222,
              "#7201a8"
             ],
             [
              0.3333333333333333,
              "#9c179e"
             ],
             [
              0.4444444444444444,
              "#bd3786"
             ],
             [
              0.5555555555555556,
              "#d8576b"
             ],
             [
              0.6666666666666666,
              "#ed7953"
             ],
             [
              0.7777777777777778,
              "#fb9f3a"
             ],
             [
              0.8888888888888888,
              "#fdca26"
             ],
             [
              1,
              "#f0f921"
             ]
            ],
            "type": "contour"
           }
          ],
          "contourcarpet": [
           {
            "colorbar": {
             "outlinewidth": 0,
             "ticks": ""
            },
            "type": "contourcarpet"
           }
          ],
          "heatmap": [
           {
            "colorbar": {
             "outlinewidth": 0,
             "ticks": ""
            },
            "colorscale": [
             [
              0,
              "#0d0887"
             ],
             [
              0.1111111111111111,
              "#46039f"
             ],
             [
              0.2222222222222222,
              "#7201a8"
             ],
             [
              0.3333333333333333,
              "#9c179e"
             ],
             [
              0.4444444444444444,
              "#bd3786"
             ],
             [
              0.5555555555555556,
              "#d8576b"
             ],
             [
              0.6666666666666666,
              "#ed7953"
             ],
             [
              0.7777777777777778,
              "#fb9f3a"
             ],
             [
              0.8888888888888888,
              "#fdca26"
             ],
             [
              1,
              "#f0f921"
             ]
            ],
            "type": "heatmap"
           }
          ],
          "heatmapgl": [
           {
            "colorbar": {
             "outlinewidth": 0,
             "ticks": ""
            },
            "colorscale": [
             [
              0,
              "#0d0887"
             ],
             [
              0.1111111111111111,
              "#46039f"
             ],
             [
              0.2222222222222222,
              "#7201a8"
             ],
             [
              0.3333333333333333,
              "#9c179e"
             ],
             [
              0.4444444444444444,
              "#bd3786"
             ],
             [
              0.5555555555555556,
              "#d8576b"
             ],
             [
              0.6666666666666666,
              "#ed7953"
             ],
             [
              0.7777777777777778,
              "#fb9f3a"
             ],
             [
              0.8888888888888888,
              "#fdca26"
             ],
             [
              1,
              "#f0f921"
             ]
            ],
            "type": "heatmapgl"
           }
          ],
          "histogram": [
           {
            "marker": {
             "pattern": {
              "fillmode": "overlay",
              "size": 10,
              "solidity": 0.2
             }
            },
            "type": "histogram"
           }
          ],
          "histogram2d": [
           {
            "colorbar": {
             "outlinewidth": 0,
             "ticks": ""
            },
            "colorscale": [
             [
              0,
              "#0d0887"
             ],
             [
              0.1111111111111111,
              "#46039f"
             ],
             [
              0.2222222222222222,
              "#7201a8"
             ],
             [
              0.3333333333333333,
              "#9c179e"
             ],
             [
              0.4444444444444444,
              "#bd3786"
             ],
             [
              0.5555555555555556,
              "#d8576b"
             ],
             [
              0.6666666666666666,
              "#ed7953"
             ],
             [
              0.7777777777777778,
              "#fb9f3a"
             ],
             [
              0.8888888888888888,
              "#fdca26"
             ],
             [
              1,
              "#f0f921"
             ]
            ],
            "type": "histogram2d"
           }
          ],
          "histogram2dcontour": [
           {
            "colorbar": {
             "outlinewidth": 0,
             "ticks": ""
            },
            "colorscale": [
             [
              0,
              "#0d0887"
             ],
             [
              0.1111111111111111,
              "#46039f"
             ],
             [
              0.2222222222222222,
              "#7201a8"
             ],
             [
              0.3333333333333333,
              "#9c179e"
             ],
             [
              0.4444444444444444,
              "#bd3786"
             ],
             [
              0.5555555555555556,
              "#d8576b"
             ],
             [
              0.6666666666666666,
              "#ed7953"
             ],
             [
              0.7777777777777778,
              "#fb9f3a"
             ],
             [
              0.8888888888888888,
              "#fdca26"
             ],
             [
              1,
              "#f0f921"
             ]
            ],
            "type": "histogram2dcontour"
           }
          ],
          "mesh3d": [
           {
            "colorbar": {
             "outlinewidth": 0,
             "ticks": ""
            },
            "type": "mesh3d"
           }
          ],
          "parcoords": [
           {
            "line": {
             "colorbar": {
              "outlinewidth": 0,
              "ticks": ""
             }
            },
            "type": "parcoords"
           }
          ],
          "pie": [
           {
            "automargin": true,
            "type": "pie"
           }
          ],
          "scatter": [
           {
            "fillpattern": {
             "fillmode": "overlay",
             "size": 10,
             "solidity": 0.2
            },
            "type": "scatter"
           }
          ],
          "scatter3d": [
           {
            "line": {
             "colorbar": {
              "outlinewidth": 0,
              "ticks": ""
             }
            },
            "marker": {
             "colorbar": {
              "outlinewidth": 0,
              "ticks": ""
             }
            },
            "type": "scatter3d"
           }
          ],
          "scattercarpet": [
           {
            "marker": {
             "colorbar": {
              "outlinewidth": 0,
              "ticks": ""
             }
            },
            "type": "scattercarpet"
           }
          ],
          "scattergeo": [
           {
            "marker": {
             "colorbar": {
              "outlinewidth": 0,
              "ticks": ""
             }
            },
            "type": "scattergeo"
           }
          ],
          "scattergl": [
           {
            "marker": {
             "colorbar": {
              "outlinewidth": 0,
              "ticks": ""
             }
            },
            "type": "scattergl"
           }
          ],
          "scattermapbox": [
           {
            "marker": {
             "colorbar": {
              "outlinewidth": 0,
              "ticks": ""
             }
            },
            "type": "scattermapbox"
           }
          ],
          "scatterpolar": [
           {
            "marker": {
             "colorbar": {
              "outlinewidth": 0,
              "ticks": ""
             }
            },
            "type": "scatterpolar"
           }
          ],
          "scatterpolargl": [
           {
            "marker": {
             "colorbar": {
              "outlinewidth": 0,
              "ticks": ""
             }
            },
            "type": "scatterpolargl"
           }
          ],
          "scatterternary": [
           {
            "marker": {
             "colorbar": {
              "outlinewidth": 0,
              "ticks": ""
             }
            },
            "type": "scatterternary"
           }
          ],
          "surface": [
           {
            "colorbar": {
             "outlinewidth": 0,
             "ticks": ""
            },
            "colorscale": [
             [
              0,
              "#0d0887"
             ],
             [
              0.1111111111111111,
              "#46039f"
             ],
             [
              0.2222222222222222,
              "#7201a8"
             ],
             [
              0.3333333333333333,
              "#9c179e"
             ],
             [
              0.4444444444444444,
              "#bd3786"
             ],
             [
              0.5555555555555556,
              "#d8576b"
             ],
             [
              0.6666666666666666,
              "#ed7953"
             ],
             [
              0.7777777777777778,
              "#fb9f3a"
             ],
             [
              0.8888888888888888,
              "#fdca26"
             ],
             [
              1,
              "#f0f921"
             ]
            ],
            "type": "surface"
           }
          ],
          "table": [
           {
            "cells": {
             "fill": {
              "color": "#EBF0F8"
             },
             "line": {
              "color": "white"
             }
            },
            "header": {
             "fill": {
              "color": "#C8D4E3"
             },
             "line": {
              "color": "white"
             }
            },
            "type": "table"
           }
          ]
         },
         "layout": {
          "annotationdefaults": {
           "arrowcolor": "#E66C64",
           "arrowhead": 0,
           "arrowwidth": 1
          },
          "autotypenumbers": "strict",
          "coloraxis": {
           "colorbar": {
            "outlinewidth": 0,
            "ticks": ""
           }
          },
          "colorscale": {
           "diverging": [
            [
             0,
             "#8e0152"
            ],
            [
             0.1,
             "#c51b7d"
            ],
            [
             0.2,
             "#de77ae"
            ],
            [
             0.3,
             "#f1b6da"
            ],
            [
             0.4,
             "#fde0ef"
            ],
            [
             0.5,
             "#f7f7f7"
            ],
            [
             0.6,
             "#e6f5d0"
            ],
            [
             0.7,
             "#b8e186"
            ],
            [
             0.8,
             "#7fbc41"
            ],
            [
             0.9,
             "#4d9221"
            ],
            [
             1,
             "#276419"
            ]
           ],
           "sequential": [
            [
             0,
             "#0d0887"
            ],
            [
             0.1111111111111111,
             "#46039f"
            ],
            [
             0.2222222222222222,
             "#7201a8"
            ],
            [
             0.3333333333333333,
             "#9c179e"
            ],
            [
             0.4444444444444444,
             "#bd3786"
            ],
            [
             0.5555555555555556,
             "#d8576b"
            ],
            [
             0.6666666666666666,
             "#ed7953"
            ],
            [
             0.7777777777777778,
             "#fb9f3a"
            ],
            [
             0.8888888888888888,
             "#fdca26"
            ],
            [
             1,
             "#f0f921"
            ]
           ],
           "sequentialminus": [
            [
             0,
             "#0d0887"
            ],
            [
             0.1111111111111111,
             "#46039f"
            ],
            [
             0.2222222222222222,
             "#7201a8"
            ],
            [
             0.3333333333333333,
             "#9c179e"
            ],
            [
             0.4444444444444444,
             "#bd3786"
            ],
            [
             0.5555555555555556,
             "#d8576b"
            ],
            [
             0.6666666666666666,
             "#ed7953"
            ],
            [
             0.7777777777777778,
             "#fb9f3a"
            ],
            [
             0.8888888888888888,
             "#fdca26"
            ],
            [
             1,
             "#f0f921"
            ]
           ]
          },
          "colorway": [
           "#636efa",
           "#EF553B",
           "#00cc96",
           "#ab63fa",
           "#FFA15A",
           "#19d3f3",
           "#FF6692",
           "#B6E880",
           "#FF97FF",
           "#FECB52"
          ],
          "font": {
           "color": "#414B61",
           "family": "Arial Medium"
          },
          "geo": {
           "bgcolor": "white",
           "lakecolor": "white",
           "landcolor": "white",
           "showlakes": true,
           "showland": true,
           "subunitcolor": "#C8D4E3"
          },
          "height": 600,
          "hoverlabel": {
           "align": "left"
          },
          "hovermode": "closest",
          "mapbox": {
           "style": "light"
          },
          "paper_bgcolor": "white",
          "plot_bgcolor": "white",
          "polar": {
           "angularaxis": {
            "gridcolor": "#EBF0F8",
            "linecolor": "#EBF0F8",
            "ticks": ""
           },
           "bgcolor": "white",
           "radialaxis": {
            "gridcolor": "#EBF0F8",
            "linecolor": "#EBF0F8",
            "ticks": ""
           }
          },
          "scene": {
           "xaxis": {
            "backgroundcolor": "white",
            "gridcolor": "#DFE8F3",
            "gridwidth": 2,
            "linecolor": "#EBF0F8",
            "showbackground": true,
            "ticks": "",
            "zerolinecolor": "#EBF0F8"
           },
           "yaxis": {
            "backgroundcolor": "white",
            "gridcolor": "#DFE8F3",
            "gridwidth": 2,
            "linecolor": "#EBF0F8",
            "showbackground": true,
            "ticks": "",
            "zerolinecolor": "#EBF0F8"
           },
           "zaxis": {
            "backgroundcolor": "white",
            "gridcolor": "#DFE8F3",
            "gridwidth": 2,
            "linecolor": "#EBF0F8",
            "showbackground": true,
            "ticks": "",
            "zerolinecolor": "#EBF0F8"
           }
          },
          "shapedefaults": {
           "line": {
            "color": "#2a3f5f"
           }
          },
          "ternary": {
           "aaxis": {
            "gridcolor": "#DFE8F3",
            "linecolor": "#A2B1C6",
            "ticks": ""
           },
           "baxis": {
            "gridcolor": "#DFE8F3",
            "linecolor": "#A2B1C6",
            "ticks": ""
           },
           "bgcolor": "white",
           "caxis": {
            "gridcolor": "#DFE8F3",
            "linecolor": "#A2B1C6",
            "ticks": ""
           }
          },
          "title": {
           "x": 0.05
          },
          "width": 800,
          "xaxis": {
           "automargin": true,
           "color": "#58617A",
           "gridcolor": "#F2F4FF",
           "gridwidth": 1,
           "linecolor": "#D1D5E4",
           "linewidth": 1,
           "showgrid": false,
           "showline": true,
           "tickfont": {
            "family": "Arial",
            "size": 11
           },
           "ticks": "",
           "title": {
            "standoff": 15
           },
           "zerolinecolor": "#EBF0F8",
           "zerolinewidth": 2
          },
          "yaxis": {
           "automargin": true,
           "color": "#58617A",
           "gridcolor": "#F2F4FF",
           "gridwidth": 1,
           "linecolor": "#D1D5E4",
           "linewidth": 1.5,
           "showgrid": false,
           "showline": true,
           "tickfont": {
            "family": "Arial",
            "size": 13
           },
           "ticks": "",
           "ticksuffix": "  ",
           "title": {
            "standoff": 15
           },
           "zerolinecolor": "#EBF0F8",
           "zerolinewidth": 2
          }
         }
        },
        "title": {
         "font": {
          "size": 16
         },
         "text": "Distribución de Clientes que caen en Cartera",
         "x": 0.5
        },
        "width": 1000,
        "xaxis": {
         "anchor": "y",
         "domain": [
          0,
          0.45
         ]
        },
        "xaxis2": {
         "anchor": "y2",
         "domain": [
          0.55,
          1
         ]
        },
        "yaxis": {
         "anchor": "x",
         "domain": [
          0,
          1
         ],
         "title": {
          "text": "Clientes (Q)"
         }
        },
        "yaxis2": {
         "anchor": "x2",
         "domain": [
          0,
          1
         ],
         "title": {
          "text": "Clientes (%)"
         }
        }
       }
      }
     },
     "metadata": {},
     "output_type": "display_data"
    }
   ],
   "source": [
    "fig = make_subplots(rows=1, cols=2, subplot_titles=('Cantidad', 'Porcentual'))\n",
    "\n",
    "fig1 = px.bar(df_target, x='target', y='count', title='Target Count',color_discrete_sequence=[paleta.color_blue])\n",
    "fig2 = px.bar(df_target, x='target', y='proportion', title='Target Proportion',color_discrete_sequence=[paleta.color_blue])\n",
    "fig.add_trace(fig1.data[0], row=1, col=1)\n",
    "fig.add_trace(fig2.data[0], row=1, col=2)\n",
    "\n",
    "fig.update_traces(texttemplate='%{y}', textposition='outside',textfont_size=12,row=1, col=1)\n",
    "fig.update_traces(texttemplate='%{y:.1f}%', textposition='outside', textfont_size=12, row=1, col=2)\n",
    "\n",
    "fig.update_yaxes(title_text='Clientes (Q)', row=1, col=1)\n",
    "fig.update_yaxes(title_text='Clientes (%)', row=1, col=2)\n",
    "\n",
    "fig.update_layout(\n",
    "    height=600, \n",
    "    width=1000,\n",
    "    title_text=\"Distribución de Clientes que caen en Cartera\", \n",
    "    title_x=0.5,  \n",
    "    title_font_size=16  \n",
    ")\n",
    "fig.show()\n",
    "fig.write_image(str(FIGURES_DIR / 'clientes_mora_distribution.svg'))\n",
    "fig.write_image(str(FIGURES_DIR / 'clientes_mora_distribution.png'))"
   ]
  },
  {
   "cell_type": "markdown",
   "metadata": {},
   "source": [
    "- existe un 3% mayor de datos de los clientes que cayeron en mora\n",
    "- para un modelo de machine learnign no habria mayor problema en el desbalance de datos"
   ]
  },
  {
   "cell_type": "code",
   "execution_count": 141,
   "metadata": {},
   "outputs": [
    {
     "data": {
      "text/html": [
       "<div>\n",
       "<style scoped>\n",
       "    .dataframe tbody tr th:only-of-type {\n",
       "        vertical-align: middle;\n",
       "    }\n",
       "\n",
       "    .dataframe tbody tr th {\n",
       "        vertical-align: top;\n",
       "    }\n",
       "\n",
       "    .dataframe thead th {\n",
       "        text-align: right;\n",
       "    }\n",
       "</style>\n",
       "<table border=\"1\" class=\"dataframe\">\n",
       "  <thead>\n",
       "    <tr style=\"text-align: right;\">\n",
       "      <th></th>\n",
       "      <th>aniomes</th>\n",
       "      <th>target</th>\n",
       "      <th>count</th>\n",
       "      <th>proportion</th>\n",
       "    </tr>\n",
       "  </thead>\n",
       "  <tbody>\n",
       "    <tr>\n",
       "      <th>0</th>\n",
       "      <td>202311</td>\n",
       "      <td>Si</td>\n",
       "      <td>4432</td>\n",
       "      <td>64.43</td>\n",
       "    </tr>\n",
       "    <tr>\n",
       "      <th>1</th>\n",
       "      <td>202311</td>\n",
       "      <td>No</td>\n",
       "      <td>2447</td>\n",
       "      <td>35.57</td>\n",
       "    </tr>\n",
       "    <tr>\n",
       "      <th>2</th>\n",
       "      <td>202312</td>\n",
       "      <td>No</td>\n",
       "      <td>3699</td>\n",
       "      <td>53.34</td>\n",
       "    </tr>\n",
       "    <tr>\n",
       "      <th>3</th>\n",
       "      <td>202312</td>\n",
       "      <td>Si</td>\n",
       "      <td>3236</td>\n",
       "      <td>46.66</td>\n",
       "    </tr>\n",
       "    <tr>\n",
       "      <th>4</th>\n",
       "      <td>202401</td>\n",
       "      <td>No</td>\n",
       "      <td>3938</td>\n",
       "      <td>51.24</td>\n",
       "    </tr>\n",
       "    <tr>\n",
       "      <th>5</th>\n",
       "      <td>202401</td>\n",
       "      <td>Si</td>\n",
       "      <td>3747</td>\n",
       "      <td>48.76</td>\n",
       "    </tr>\n",
       "  </tbody>\n",
       "</table>\n",
       "</div>"
      ],
      "text/plain": [
       "  aniomes target  count  proportion\n",
       "0  202311     Si   4432       64.43\n",
       "1  202311     No   2447       35.57\n",
       "2  202312     No   3699       53.34\n",
       "3  202312     Si   3236       46.66\n",
       "4  202401     No   3938       51.24\n",
       "5  202401     Si   3747       48.76"
      ]
     },
     "execution_count": 141,
     "metadata": {},
     "output_type": "execute_result"
    }
   ],
   "source": [
    "series_mora_time_percetage=df_cartera.groupby(['aniomes'])['target'].value_counts(normalize=True).mul(100).round(2)\n",
    "series_mora_time_count=df_cartera.groupby(['aniomes'])['target'].value_counts()\n",
    "df_mora_time=pd.concat([series_mora_time_count,series_mora_time_percetage],axis=1).reset_index()\n",
    "df_mora_time['target']=df_mora_time['target'].map({0:'No',1:'Si'})\n",
    "df_mora_time['aniomes'] = df_mora_time['aniomes'].astype(str)\n",
    "df_mora_time"
   ]
  },
  {
   "cell_type": "code",
   "execution_count": 143,
   "metadata": {},
   "outputs": [
    {
     "data": {
      "application/vnd.plotly.v1+json": {
       "config": {
        "plotlyServerURL": "https://plot.ly"
       },
       "data": [
        {
         "hovertemplate": "target=Si<br>aniomes=%{x}<br>proportion=%{y}<br>count=%{text}<extra></extra>",
         "legendgroup": "Si",
         "line": {
          "color": "#E66C64",
          "dash": "solid"
         },
         "marker": {
          "symbol": "circle"
         },
         "mode": "lines+markers+text",
         "name": "Si",
         "orientation": "v",
         "showlegend": true,
         "text": [
          4432,
          3236,
          3747
         ],
         "textfont": {
          "size": 12
         },
         "textposition": "top center",
         "texttemplate": "%{y:.1f} (%{text}%)",
         "type": "scatter",
         "x": [
          "202311",
          "202312",
          "202401"
         ],
         "xaxis": "x",
         "y": [
          64.43,
          46.66,
          48.76
         ],
         "yaxis": "y"
        },
        {
         "hovertemplate": "target=No<br>aniomes=%{x}<br>proportion=%{y}<br>count=%{text}<extra></extra>",
         "legendgroup": "No",
         "line": {
          "color": "#B0B6CA",
          "dash": "solid"
         },
         "marker": {
          "symbol": "circle"
         },
         "mode": "lines+markers+text",
         "name": "No",
         "orientation": "v",
         "showlegend": true,
         "text": [
          2447,
          3699,
          3938
         ],
         "textfont": {
          "size": 12
         },
         "textposition": "top center",
         "texttemplate": "%{y:.1f} (%{text}%)",
         "type": "scatter",
         "x": [
          "202311",
          "202312",
          "202401"
         ],
         "xaxis": "x",
         "y": [
          35.57,
          53.34,
          51.24
         ],
         "yaxis": "y"
        }
       ],
       "layout": {
        "height": 500,
        "legend": {
         "title": {
          "text": "En Mora"
         },
         "tracegroupgap": 0
        },
        "template": {
         "data": {
          "bar": [
           {
            "error_x": {
             "color": "#2a3f5f"
            },
            "error_y": {
             "color": "#2a3f5f"
            },
            "marker": {
             "line": {
              "color": "#E5ECF6",
              "width": 0.5
             },
             "pattern": {
              "fillmode": "overlay",
              "size": 10,
              "solidity": 0.2
             }
            },
            "type": "bar"
           }
          ],
          "barpolar": [
           {
            "marker": {
             "line": {
              "color": "#E5ECF6",
              "width": 0.5
             },
             "pattern": {
              "fillmode": "overlay",
              "size": 10,
              "solidity": 0.2
             }
            },
            "type": "barpolar"
           }
          ],
          "carpet": [
           {
            "aaxis": {
             "endlinecolor": "#2a3f5f",
             "gridcolor": "white",
             "linecolor": "white",
             "minorgridcolor": "white",
             "startlinecolor": "#2a3f5f"
            },
            "baxis": {
             "endlinecolor": "#2a3f5f",
             "gridcolor": "white",
             "linecolor": "white",
             "minorgridcolor": "white",
             "startlinecolor": "#2a3f5f"
            },
            "type": "carpet"
           }
          ],
          "choropleth": [
           {
            "colorbar": {
             "outlinewidth": 0,
             "ticks": ""
            },
            "type": "choropleth"
           }
          ],
          "contour": [
           {
            "colorbar": {
             "outlinewidth": 0,
             "ticks": ""
            },
            "colorscale": [
             [
              0,
              "#0d0887"
             ],
             [
              0.1111111111111111,
              "#46039f"
             ],
             [
              0.2222222222222222,
              "#7201a8"
             ],
             [
              0.3333333333333333,
              "#9c179e"
             ],
             [
              0.4444444444444444,
              "#bd3786"
             ],
             [
              0.5555555555555556,
              "#d8576b"
             ],
             [
              0.6666666666666666,
              "#ed7953"
             ],
             [
              0.7777777777777778,
              "#fb9f3a"
             ],
             [
              0.8888888888888888,
              "#fdca26"
             ],
             [
              1,
              "#f0f921"
             ]
            ],
            "type": "contour"
           }
          ],
          "contourcarpet": [
           {
            "colorbar": {
             "outlinewidth": 0,
             "ticks": ""
            },
            "type": "contourcarpet"
           }
          ],
          "heatmap": [
           {
            "colorbar": {
             "outlinewidth": 0,
             "ticks": ""
            },
            "colorscale": [
             [
              0,
              "#0d0887"
             ],
             [
              0.1111111111111111,
              "#46039f"
             ],
             [
              0.2222222222222222,
              "#7201a8"
             ],
             [
              0.3333333333333333,
              "#9c179e"
             ],
             [
              0.4444444444444444,
              "#bd3786"
             ],
             [
              0.5555555555555556,
              "#d8576b"
             ],
             [
              0.6666666666666666,
              "#ed7953"
             ],
             [
              0.7777777777777778,
              "#fb9f3a"
             ],
             [
              0.8888888888888888,
              "#fdca26"
             ],
             [
              1,
              "#f0f921"
             ]
            ],
            "type": "heatmap"
           }
          ],
          "heatmapgl": [
           {
            "colorbar": {
             "outlinewidth": 0,
             "ticks": ""
            },
            "colorscale": [
             [
              0,
              "#0d0887"
             ],
             [
              0.1111111111111111,
              "#46039f"
             ],
             [
              0.2222222222222222,
              "#7201a8"
             ],
             [
              0.3333333333333333,
              "#9c179e"
             ],
             [
              0.4444444444444444,
              "#bd3786"
             ],
             [
              0.5555555555555556,
              "#d8576b"
             ],
             [
              0.6666666666666666,
              "#ed7953"
             ],
             [
              0.7777777777777778,
              "#fb9f3a"
             ],
             [
              0.8888888888888888,
              "#fdca26"
             ],
             [
              1,
              "#f0f921"
             ]
            ],
            "type": "heatmapgl"
           }
          ],
          "histogram": [
           {
            "marker": {
             "pattern": {
              "fillmode": "overlay",
              "size": 10,
              "solidity": 0.2
             }
            },
            "type": "histogram"
           }
          ],
          "histogram2d": [
           {
            "colorbar": {
             "outlinewidth": 0,
             "ticks": ""
            },
            "colorscale": [
             [
              0,
              "#0d0887"
             ],
             [
              0.1111111111111111,
              "#46039f"
             ],
             [
              0.2222222222222222,
              "#7201a8"
             ],
             [
              0.3333333333333333,
              "#9c179e"
             ],
             [
              0.4444444444444444,
              "#bd3786"
             ],
             [
              0.5555555555555556,
              "#d8576b"
             ],
             [
              0.6666666666666666,
              "#ed7953"
             ],
             [
              0.7777777777777778,
              "#fb9f3a"
             ],
             [
              0.8888888888888888,
              "#fdca26"
             ],
             [
              1,
              "#f0f921"
             ]
            ],
            "type": "histogram2d"
           }
          ],
          "histogram2dcontour": [
           {
            "colorbar": {
             "outlinewidth": 0,
             "ticks": ""
            },
            "colorscale": [
             [
              0,
              "#0d0887"
             ],
             [
              0.1111111111111111,
              "#46039f"
             ],
             [
              0.2222222222222222,
              "#7201a8"
             ],
             [
              0.3333333333333333,
              "#9c179e"
             ],
             [
              0.4444444444444444,
              "#bd3786"
             ],
             [
              0.5555555555555556,
              "#d8576b"
             ],
             [
              0.6666666666666666,
              "#ed7953"
             ],
             [
              0.7777777777777778,
              "#fb9f3a"
             ],
             [
              0.8888888888888888,
              "#fdca26"
             ],
             [
              1,
              "#f0f921"
             ]
            ],
            "type": "histogram2dcontour"
           }
          ],
          "mesh3d": [
           {
            "colorbar": {
             "outlinewidth": 0,
             "ticks": ""
            },
            "type": "mesh3d"
           }
          ],
          "parcoords": [
           {
            "line": {
             "colorbar": {
              "outlinewidth": 0,
              "ticks": ""
             }
            },
            "type": "parcoords"
           }
          ],
          "pie": [
           {
            "automargin": true,
            "type": "pie"
           }
          ],
          "scatter": [
           {
            "fillpattern": {
             "fillmode": "overlay",
             "size": 10,
             "solidity": 0.2
            },
            "type": "scatter"
           }
          ],
          "scatter3d": [
           {
            "line": {
             "colorbar": {
              "outlinewidth": 0,
              "ticks": ""
             }
            },
            "marker": {
             "colorbar": {
              "outlinewidth": 0,
              "ticks": ""
             }
            },
            "type": "scatter3d"
           }
          ],
          "scattercarpet": [
           {
            "marker": {
             "colorbar": {
              "outlinewidth": 0,
              "ticks": ""
             }
            },
            "type": "scattercarpet"
           }
          ],
          "scattergeo": [
           {
            "marker": {
             "colorbar": {
              "outlinewidth": 0,
              "ticks": ""
             }
            },
            "type": "scattergeo"
           }
          ],
          "scattergl": [
           {
            "marker": {
             "colorbar": {
              "outlinewidth": 0,
              "ticks": ""
             }
            },
            "type": "scattergl"
           }
          ],
          "scattermapbox": [
           {
            "marker": {
             "colorbar": {
              "outlinewidth": 0,
              "ticks": ""
             }
            },
            "type": "scattermapbox"
           }
          ],
          "scatterpolar": [
           {
            "marker": {
             "colorbar": {
              "outlinewidth": 0,
              "ticks": ""
             }
            },
            "type": "scatterpolar"
           }
          ],
          "scatterpolargl": [
           {
            "marker": {
             "colorbar": {
              "outlinewidth": 0,
              "ticks": ""
             }
            },
            "type": "scatterpolargl"
           }
          ],
          "scatterternary": [
           {
            "marker": {
             "colorbar": {
              "outlinewidth": 0,
              "ticks": ""
             }
            },
            "type": "scatterternary"
           }
          ],
          "surface": [
           {
            "colorbar": {
             "outlinewidth": 0,
             "ticks": ""
            },
            "colorscale": [
             [
              0,
              "#0d0887"
             ],
             [
              0.1111111111111111,
              "#46039f"
             ],
             [
              0.2222222222222222,
              "#7201a8"
             ],
             [
              0.3333333333333333,
              "#9c179e"
             ],
             [
              0.4444444444444444,
              "#bd3786"
             ],
             [
              0.5555555555555556,
              "#d8576b"
             ],
             [
              0.6666666666666666,
              "#ed7953"
             ],
             [
              0.7777777777777778,
              "#fb9f3a"
             ],
             [
              0.8888888888888888,
              "#fdca26"
             ],
             [
              1,
              "#f0f921"
             ]
            ],
            "type": "surface"
           }
          ],
          "table": [
           {
            "cells": {
             "fill": {
              "color": "#EBF0F8"
             },
             "line": {
              "color": "white"
             }
            },
            "header": {
             "fill": {
              "color": "#C8D4E3"
             },
             "line": {
              "color": "white"
             }
            },
            "type": "table"
           }
          ]
         },
         "layout": {
          "annotationdefaults": {
           "arrowcolor": "#E66C64",
           "arrowhead": 0,
           "arrowwidth": 1
          },
          "autotypenumbers": "strict",
          "coloraxis": {
           "colorbar": {
            "outlinewidth": 0,
            "ticks": ""
           }
          },
          "colorscale": {
           "diverging": [
            [
             0,
             "#8e0152"
            ],
            [
             0.1,
             "#c51b7d"
            ],
            [
             0.2,
             "#de77ae"
            ],
            [
             0.3,
             "#f1b6da"
            ],
            [
             0.4,
             "#fde0ef"
            ],
            [
             0.5,
             "#f7f7f7"
            ],
            [
             0.6,
             "#e6f5d0"
            ],
            [
             0.7,
             "#b8e186"
            ],
            [
             0.8,
             "#7fbc41"
            ],
            [
             0.9,
             "#4d9221"
            ],
            [
             1,
             "#276419"
            ]
           ],
           "sequential": [
            [
             0,
             "#0d0887"
            ],
            [
             0.1111111111111111,
             "#46039f"
            ],
            [
             0.2222222222222222,
             "#7201a8"
            ],
            [
             0.3333333333333333,
             "#9c179e"
            ],
            [
             0.4444444444444444,
             "#bd3786"
            ],
            [
             0.5555555555555556,
             "#d8576b"
            ],
            [
             0.6666666666666666,
             "#ed7953"
            ],
            [
             0.7777777777777778,
             "#fb9f3a"
            ],
            [
             0.8888888888888888,
             "#fdca26"
            ],
            [
             1,
             "#f0f921"
            ]
           ],
           "sequentialminus": [
            [
             0,
             "#0d0887"
            ],
            [
             0.1111111111111111,
             "#46039f"
            ],
            [
             0.2222222222222222,
             "#7201a8"
            ],
            [
             0.3333333333333333,
             "#9c179e"
            ],
            [
             0.4444444444444444,
             "#bd3786"
            ],
            [
             0.5555555555555556,
             "#d8576b"
            ],
            [
             0.6666666666666666,
             "#ed7953"
            ],
            [
             0.7777777777777778,
             "#fb9f3a"
            ],
            [
             0.8888888888888888,
             "#fdca26"
            ],
            [
             1,
             "#f0f921"
            ]
           ]
          },
          "colorway": [
           "#636efa",
           "#EF553B",
           "#00cc96",
           "#ab63fa",
           "#FFA15A",
           "#19d3f3",
           "#FF6692",
           "#B6E880",
           "#FF97FF",
           "#FECB52"
          ],
          "font": {
           "color": "#414B61",
           "family": "Arial Medium"
          },
          "geo": {
           "bgcolor": "white",
           "lakecolor": "white",
           "landcolor": "white",
           "showlakes": true,
           "showland": true,
           "subunitcolor": "#C8D4E3"
          },
          "height": 600,
          "hoverlabel": {
           "align": "left"
          },
          "hovermode": "closest",
          "mapbox": {
           "style": "light"
          },
          "paper_bgcolor": "white",
          "plot_bgcolor": "white",
          "polar": {
           "angularaxis": {
            "gridcolor": "#EBF0F8",
            "linecolor": "#EBF0F8",
            "ticks": ""
           },
           "bgcolor": "white",
           "radialaxis": {
            "gridcolor": "#EBF0F8",
            "linecolor": "#EBF0F8",
            "ticks": ""
           }
          },
          "scene": {
           "xaxis": {
            "backgroundcolor": "white",
            "gridcolor": "#DFE8F3",
            "gridwidth": 2,
            "linecolor": "#EBF0F8",
            "showbackground": true,
            "ticks": "",
            "zerolinecolor": "#EBF0F8"
           },
           "yaxis": {
            "backgroundcolor": "white",
            "gridcolor": "#DFE8F3",
            "gridwidth": 2,
            "linecolor": "#EBF0F8",
            "showbackground": true,
            "ticks": "",
            "zerolinecolor": "#EBF0F8"
           },
           "zaxis": {
            "backgroundcolor": "white",
            "gridcolor": "#DFE8F3",
            "gridwidth": 2,
            "linecolor": "#EBF0F8",
            "showbackground": true,
            "ticks": "",
            "zerolinecolor": "#EBF0F8"
           }
          },
          "shapedefaults": {
           "line": {
            "color": "#2a3f5f"
           }
          },
          "ternary": {
           "aaxis": {
            "gridcolor": "#DFE8F3",
            "linecolor": "#A2B1C6",
            "ticks": ""
           },
           "baxis": {
            "gridcolor": "#DFE8F3",
            "linecolor": "#A2B1C6",
            "ticks": ""
           },
           "bgcolor": "white",
           "caxis": {
            "gridcolor": "#DFE8F3",
            "linecolor": "#A2B1C6",
            "ticks": ""
           }
          },
          "title": {
           "x": 0.05
          },
          "width": 800,
          "xaxis": {
           "automargin": true,
           "color": "#58617A",
           "gridcolor": "#F2F4FF",
           "gridwidth": 1,
           "linecolor": "#D1D5E4",
           "linewidth": 1,
           "showgrid": false,
           "showline": true,
           "tickfont": {
            "family": "Arial",
            "size": 11
           },
           "ticks": "",
           "title": {
            "standoff": 15
           },
           "zerolinecolor": "#EBF0F8",
           "zerolinewidth": 2
          },
          "yaxis": {
           "automargin": true,
           "color": "#58617A",
           "gridcolor": "#F2F4FF",
           "gridwidth": 1,
           "linecolor": "#D1D5E4",
           "linewidth": 1.5,
           "showgrid": false,
           "showline": true,
           "tickfont": {
            "family": "Arial",
            "size": 13
           },
           "ticks": "",
           "ticksuffix": "  ",
           "title": {
            "standoff": 15
           },
           "zerolinecolor": "#EBF0F8",
           "zerolinewidth": 2
          }
         }
        },
        "title": {
         "font": {
          "size": 16
         },
         "text": "Distribución de Clientes que caen en Cartera por Mes",
         "x": 0.5
        },
        "width": 1000,
        "xaxis": {
         "anchor": "y",
         "domain": [
          0,
          1
         ],
         "title": {
          "text": "Periodo"
         }
        },
        "yaxis": {
         "anchor": "x",
         "domain": [
          0,
          1
         ],
         "range": [
          30,
          70
         ],
         "title": {
          "text": "Clientes (%)"
         }
        }
       }
      }
     },
     "metadata": {},
     "output_type": "display_data"
    }
   ],
   "source": [
    "# df_mora_time['fecha'] = pd.to_datetime(df_mora_time['aniomes'].astype(str), format='%Y%m')\n",
    "fig = px.line(df_mora_time.sort_values('aniomes'), x='aniomes', y='proportion', color='target',\n",
    "              title='Target Proportion', \n",
    "              text='count',\n",
    "              color_discrete_sequence=[paleta.color_red, paleta.color_grey_3])\n",
    "\n",
    "# Añadir marcadores (puntos) en las líneas\n",
    "fig.update_traces(mode='lines+markers+text', textposition='top center', textfont_size=12)\n",
    "\n",
    "# Formatear el texto para mostrar porcentaje y count\n",
    "fig.update_traces(texttemplate='%{y:.1f} (%{text}%)')\n",
    "\n",
    "# Actualizar la leyenda\n",
    "fig.update_layout(legend_title_text='En Mora')\n",
    "\n",
    "# Actualizar etiquetas de los ejes\n",
    "fig.update_yaxes(title_text='Clientes (%)')\n",
    "fig.update_xaxes(title_text='Periodo')\n",
    "\n",
    "# Actualizar el diseño general\n",
    "fig.update_layout(\n",
    "    height=500, \n",
    "    width=1000,\n",
    "    title_text=\"Distribución de Clientes que caen en Cartera por Mes\", \n",
    "    title_x=0.5,  \n",
    "    title_font_size=16  \n",
    ")\n",
    "# ajustar el eje y\n",
    "fig.update_yaxes(range=[30, 70])\n",
    "# fig.update_xaxes(range=['2023-10-21', '2024-01-15'])\n",
    "\n",
    "fig.show()"
   ]
  },
  {
   "cell_type": "code",
   "execution_count": 144,
   "metadata": {},
   "outputs": [
    {
     "data": {
      "application/vnd.plotly.v1+json": {
       "config": {
        "plotlyServerURL": "https://plot.ly"
       },
       "data": [
        {
         "alignmentgroup": "True",
         "hovertemplate": "target=Si<br>aniomes=%{x}<br>proportion=%{y}<br>count=%{text}<extra></extra>",
         "legendgroup": "Si",
         "marker": {
          "color": "#E66C64",
          "pattern": {
           "shape": ""
          }
         },
         "name": "Si",
         "offsetgroup": "Si",
         "orientation": "v",
         "showlegend": true,
         "text": [
          4432,
          3236,
          3747
         ],
         "textfont": {
          "size": 12
         },
         "textposition": "outside",
         "texttemplate": "%{y:.1f}%<br>(%{text})",
         "type": "bar",
         "x": [
          "202311",
          "202312",
          "202401"
         ],
         "xaxis": "x",
         "y": [
          64.43,
          46.66,
          48.76
         ],
         "yaxis": "y"
        },
        {
         "alignmentgroup": "True",
         "hovertemplate": "target=No<br>aniomes=%{x}<br>proportion=%{y}<br>count=%{text}<extra></extra>",
         "legendgroup": "No",
         "marker": {
          "color": "#B0B6CA",
          "pattern": {
           "shape": ""
          }
         },
         "name": "No",
         "offsetgroup": "No",
         "orientation": "v",
         "showlegend": true,
         "text": [
          2447,
          3699,
          3938
         ],
         "textfont": {
          "size": 12
         },
         "textposition": "outside",
         "texttemplate": "%{y:.1f}%<br>(%{text})",
         "type": "bar",
         "x": [
          "202311",
          "202312",
          "202401"
         ],
         "xaxis": "x",
         "y": [
          35.57,
          53.34,
          51.24
         ],
         "yaxis": "y"
        }
       ],
       "layout": {
        "barmode": "group",
        "height": 800,
        "legend": {
         "title": {
          "text": "En Mora"
         },
         "tracegroupgap": 0
        },
        "template": {
         "data": {
          "bar": [
           {
            "error_x": {
             "color": "#2a3f5f"
            },
            "error_y": {
             "color": "#2a3f5f"
            },
            "marker": {
             "line": {
              "color": "#E5ECF6",
              "width": 0.5
             },
             "pattern": {
              "fillmode": "overlay",
              "size": 10,
              "solidity": 0.2
             }
            },
            "type": "bar"
           }
          ],
          "barpolar": [
           {
            "marker": {
             "line": {
              "color": "#E5ECF6",
              "width": 0.5
             },
             "pattern": {
              "fillmode": "overlay",
              "size": 10,
              "solidity": 0.2
             }
            },
            "type": "barpolar"
           }
          ],
          "carpet": [
           {
            "aaxis": {
             "endlinecolor": "#2a3f5f",
             "gridcolor": "white",
             "linecolor": "white",
             "minorgridcolor": "white",
             "startlinecolor": "#2a3f5f"
            },
            "baxis": {
             "endlinecolor": "#2a3f5f",
             "gridcolor": "white",
             "linecolor": "white",
             "minorgridcolor": "white",
             "startlinecolor": "#2a3f5f"
            },
            "type": "carpet"
           }
          ],
          "choropleth": [
           {
            "colorbar": {
             "outlinewidth": 0,
             "ticks": ""
            },
            "type": "choropleth"
           }
          ],
          "contour": [
           {
            "colorbar": {
             "outlinewidth": 0,
             "ticks": ""
            },
            "colorscale": [
             [
              0,
              "#0d0887"
             ],
             [
              0.1111111111111111,
              "#46039f"
             ],
             [
              0.2222222222222222,
              "#7201a8"
             ],
             [
              0.3333333333333333,
              "#9c179e"
             ],
             [
              0.4444444444444444,
              "#bd3786"
             ],
             [
              0.5555555555555556,
              "#d8576b"
             ],
             [
              0.6666666666666666,
              "#ed7953"
             ],
             [
              0.7777777777777778,
              "#fb9f3a"
             ],
             [
              0.8888888888888888,
              "#fdca26"
             ],
             [
              1,
              "#f0f921"
             ]
            ],
            "type": "contour"
           }
          ],
          "contourcarpet": [
           {
            "colorbar": {
             "outlinewidth": 0,
             "ticks": ""
            },
            "type": "contourcarpet"
           }
          ],
          "heatmap": [
           {
            "colorbar": {
             "outlinewidth": 0,
             "ticks": ""
            },
            "colorscale": [
             [
              0,
              "#0d0887"
             ],
             [
              0.1111111111111111,
              "#46039f"
             ],
             [
              0.2222222222222222,
              "#7201a8"
             ],
             [
              0.3333333333333333,
              "#9c179e"
             ],
             [
              0.4444444444444444,
              "#bd3786"
             ],
             [
              0.5555555555555556,
              "#d8576b"
             ],
             [
              0.6666666666666666,
              "#ed7953"
             ],
             [
              0.7777777777777778,
              "#fb9f3a"
             ],
             [
              0.8888888888888888,
              "#fdca26"
             ],
             [
              1,
              "#f0f921"
             ]
            ],
            "type": "heatmap"
           }
          ],
          "heatmapgl": [
           {
            "colorbar": {
             "outlinewidth": 0,
             "ticks": ""
            },
            "colorscale": [
             [
              0,
              "#0d0887"
             ],
             [
              0.1111111111111111,
              "#46039f"
             ],
             [
              0.2222222222222222,
              "#7201a8"
             ],
             [
              0.3333333333333333,
              "#9c179e"
             ],
             [
              0.4444444444444444,
              "#bd3786"
             ],
             [
              0.5555555555555556,
              "#d8576b"
             ],
             [
              0.6666666666666666,
              "#ed7953"
             ],
             [
              0.7777777777777778,
              "#fb9f3a"
             ],
             [
              0.8888888888888888,
              "#fdca26"
             ],
             [
              1,
              "#f0f921"
             ]
            ],
            "type": "heatmapgl"
           }
          ],
          "histogram": [
           {
            "marker": {
             "pattern": {
              "fillmode": "overlay",
              "size": 10,
              "solidity": 0.2
             }
            },
            "type": "histogram"
           }
          ],
          "histogram2d": [
           {
            "colorbar": {
             "outlinewidth": 0,
             "ticks": ""
            },
            "colorscale": [
             [
              0,
              "#0d0887"
             ],
             [
              0.1111111111111111,
              "#46039f"
             ],
             [
              0.2222222222222222,
              "#7201a8"
             ],
             [
              0.3333333333333333,
              "#9c179e"
             ],
             [
              0.4444444444444444,
              "#bd3786"
             ],
             [
              0.5555555555555556,
              "#d8576b"
             ],
             [
              0.6666666666666666,
              "#ed7953"
             ],
             [
              0.7777777777777778,
              "#fb9f3a"
             ],
             [
              0.8888888888888888,
              "#fdca26"
             ],
             [
              1,
              "#f0f921"
             ]
            ],
            "type": "histogram2d"
           }
          ],
          "histogram2dcontour": [
           {
            "colorbar": {
             "outlinewidth": 0,
             "ticks": ""
            },
            "colorscale": [
             [
              0,
              "#0d0887"
             ],
             [
              0.1111111111111111,
              "#46039f"
             ],
             [
              0.2222222222222222,
              "#7201a8"
             ],
             [
              0.3333333333333333,
              "#9c179e"
             ],
             [
              0.4444444444444444,
              "#bd3786"
             ],
             [
              0.5555555555555556,
              "#d8576b"
             ],
             [
              0.6666666666666666,
              "#ed7953"
             ],
             [
              0.7777777777777778,
              "#fb9f3a"
             ],
             [
              0.8888888888888888,
              "#fdca26"
             ],
             [
              1,
              "#f0f921"
             ]
            ],
            "type": "histogram2dcontour"
           }
          ],
          "mesh3d": [
           {
            "colorbar": {
             "outlinewidth": 0,
             "ticks": ""
            },
            "type": "mesh3d"
           }
          ],
          "parcoords": [
           {
            "line": {
             "colorbar": {
              "outlinewidth": 0,
              "ticks": ""
             }
            },
            "type": "parcoords"
           }
          ],
          "pie": [
           {
            "automargin": true,
            "type": "pie"
           }
          ],
          "scatter": [
           {
            "fillpattern": {
             "fillmode": "overlay",
             "size": 10,
             "solidity": 0.2
            },
            "type": "scatter"
           }
          ],
          "scatter3d": [
           {
            "line": {
             "colorbar": {
              "outlinewidth": 0,
              "ticks": ""
             }
            },
            "marker": {
             "colorbar": {
              "outlinewidth": 0,
              "ticks": ""
             }
            },
            "type": "scatter3d"
           }
          ],
          "scattercarpet": [
           {
            "marker": {
             "colorbar": {
              "outlinewidth": 0,
              "ticks": ""
             }
            },
            "type": "scattercarpet"
           }
          ],
          "scattergeo": [
           {
            "marker": {
             "colorbar": {
              "outlinewidth": 0,
              "ticks": ""
             }
            },
            "type": "scattergeo"
           }
          ],
          "scattergl": [
           {
            "marker": {
             "colorbar": {
              "outlinewidth": 0,
              "ticks": ""
             }
            },
            "type": "scattergl"
           }
          ],
          "scattermapbox": [
           {
            "marker": {
             "colorbar": {
              "outlinewidth": 0,
              "ticks": ""
             }
            },
            "type": "scattermapbox"
           }
          ],
          "scatterpolar": [
           {
            "marker": {
             "colorbar": {
              "outlinewidth": 0,
              "ticks": ""
             }
            },
            "type": "scatterpolar"
           }
          ],
          "scatterpolargl": [
           {
            "marker": {
             "colorbar": {
              "outlinewidth": 0,
              "ticks": ""
             }
            },
            "type": "scatterpolargl"
           }
          ],
          "scatterternary": [
           {
            "marker": {
             "colorbar": {
              "outlinewidth": 0,
              "ticks": ""
             }
            },
            "type": "scatterternary"
           }
          ],
          "surface": [
           {
            "colorbar": {
             "outlinewidth": 0,
             "ticks": ""
            },
            "colorscale": [
             [
              0,
              "#0d0887"
             ],
             [
              0.1111111111111111,
              "#46039f"
             ],
             [
              0.2222222222222222,
              "#7201a8"
             ],
             [
              0.3333333333333333,
              "#9c179e"
             ],
             [
              0.4444444444444444,
              "#bd3786"
             ],
             [
              0.5555555555555556,
              "#d8576b"
             ],
             [
              0.6666666666666666,
              "#ed7953"
             ],
             [
              0.7777777777777778,
              "#fb9f3a"
             ],
             [
              0.8888888888888888,
              "#fdca26"
             ],
             [
              1,
              "#f0f921"
             ]
            ],
            "type": "surface"
           }
          ],
          "table": [
           {
            "cells": {
             "fill": {
              "color": "#EBF0F8"
             },
             "line": {
              "color": "white"
             }
            },
            "header": {
             "fill": {
              "color": "#C8D4E3"
             },
             "line": {
              "color": "white"
             }
            },
            "type": "table"
           }
          ]
         },
         "layout": {
          "annotationdefaults": {
           "arrowcolor": "#E66C64",
           "arrowhead": 0,
           "arrowwidth": 1
          },
          "autotypenumbers": "strict",
          "coloraxis": {
           "colorbar": {
            "outlinewidth": 0,
            "ticks": ""
           }
          },
          "colorscale": {
           "diverging": [
            [
             0,
             "#8e0152"
            ],
            [
             0.1,
             "#c51b7d"
            ],
            [
             0.2,
             "#de77ae"
            ],
            [
             0.3,
             "#f1b6da"
            ],
            [
             0.4,
             "#fde0ef"
            ],
            [
             0.5,
             "#f7f7f7"
            ],
            [
             0.6,
             "#e6f5d0"
            ],
            [
             0.7,
             "#b8e186"
            ],
            [
             0.8,
             "#7fbc41"
            ],
            [
             0.9,
             "#4d9221"
            ],
            [
             1,
             "#276419"
            ]
           ],
           "sequential": [
            [
             0,
             "#0d0887"
            ],
            [
             0.1111111111111111,
             "#46039f"
            ],
            [
             0.2222222222222222,
             "#7201a8"
            ],
            [
             0.3333333333333333,
             "#9c179e"
            ],
            [
             0.4444444444444444,
             "#bd3786"
            ],
            [
             0.5555555555555556,
             "#d8576b"
            ],
            [
             0.6666666666666666,
             "#ed7953"
            ],
            [
             0.7777777777777778,
             "#fb9f3a"
            ],
            [
             0.8888888888888888,
             "#fdca26"
            ],
            [
             1,
             "#f0f921"
            ]
           ],
           "sequentialminus": [
            [
             0,
             "#0d0887"
            ],
            [
             0.1111111111111111,
             "#46039f"
            ],
            [
             0.2222222222222222,
             "#7201a8"
            ],
            [
             0.3333333333333333,
             "#9c179e"
            ],
            [
             0.4444444444444444,
             "#bd3786"
            ],
            [
             0.5555555555555556,
             "#d8576b"
            ],
            [
             0.6666666666666666,
             "#ed7953"
            ],
            [
             0.7777777777777778,
             "#fb9f3a"
            ],
            [
             0.8888888888888888,
             "#fdca26"
            ],
            [
             1,
             "#f0f921"
            ]
           ]
          },
          "colorway": [
           "#636efa",
           "#EF553B",
           "#00cc96",
           "#ab63fa",
           "#FFA15A",
           "#19d3f3",
           "#FF6692",
           "#B6E880",
           "#FF97FF",
           "#FECB52"
          ],
          "font": {
           "color": "#414B61",
           "family": "Arial Medium"
          },
          "geo": {
           "bgcolor": "white",
           "lakecolor": "white",
           "landcolor": "white",
           "showlakes": true,
           "showland": true,
           "subunitcolor": "#C8D4E3"
          },
          "height": 600,
          "hoverlabel": {
           "align": "left"
          },
          "hovermode": "closest",
          "mapbox": {
           "style": "light"
          },
          "paper_bgcolor": "white",
          "plot_bgcolor": "white",
          "polar": {
           "angularaxis": {
            "gridcolor": "#EBF0F8",
            "linecolor": "#EBF0F8",
            "ticks": ""
           },
           "bgcolor": "white",
           "radialaxis": {
            "gridcolor": "#EBF0F8",
            "linecolor": "#EBF0F8",
            "ticks": ""
           }
          },
          "scene": {
           "xaxis": {
            "backgroundcolor": "white",
            "gridcolor": "#DFE8F3",
            "gridwidth": 2,
            "linecolor": "#EBF0F8",
            "showbackground": true,
            "ticks": "",
            "zerolinecolor": "#EBF0F8"
           },
           "yaxis": {
            "backgroundcolor": "white",
            "gridcolor": "#DFE8F3",
            "gridwidth": 2,
            "linecolor": "#EBF0F8",
            "showbackground": true,
            "ticks": "",
            "zerolinecolor": "#EBF0F8"
           },
           "zaxis": {
            "backgroundcolor": "white",
            "gridcolor": "#DFE8F3",
            "gridwidth": 2,
            "linecolor": "#EBF0F8",
            "showbackground": true,
            "ticks": "",
            "zerolinecolor": "#EBF0F8"
           }
          },
          "shapedefaults": {
           "line": {
            "color": "#2a3f5f"
           }
          },
          "ternary": {
           "aaxis": {
            "gridcolor": "#DFE8F3",
            "linecolor": "#A2B1C6",
            "ticks": ""
           },
           "baxis": {
            "gridcolor": "#DFE8F3",
            "linecolor": "#A2B1C6",
            "ticks": ""
           },
           "bgcolor": "white",
           "caxis": {
            "gridcolor": "#DFE8F3",
            "linecolor": "#A2B1C6",
            "ticks": ""
           }
          },
          "title": {
           "x": 0.05
          },
          "width": 800,
          "xaxis": {
           "automargin": true,
           "color": "#58617A",
           "gridcolor": "#F2F4FF",
           "gridwidth": 1,
           "linecolor": "#D1D5E4",
           "linewidth": 1,
           "showgrid": false,
           "showline": true,
           "tickfont": {
            "family": "Arial",
            "size": 11
           },
           "ticks": "",
           "title": {
            "standoff": 15
           },
           "zerolinecolor": "#EBF0F8",
           "zerolinewidth": 2
          },
          "yaxis": {
           "automargin": true,
           "color": "#58617A",
           "gridcolor": "#F2F4FF",
           "gridwidth": 1,
           "linecolor": "#D1D5E4",
           "linewidth": 1.5,
           "showgrid": false,
           "showline": true,
           "tickfont": {
            "family": "Arial",
            "size": 13
           },
           "ticks": "",
           "ticksuffix": "  ",
           "title": {
            "standoff": 15
           },
           "zerolinecolor": "#EBF0F8",
           "zerolinewidth": 2
          }
         }
        },
        "title": {
         "font": {
          "size": 16
         },
         "text": "Distribución de Clientes que caen en Cartera por Mes",
         "x": 0.5
        },
        "width": 1000,
        "xaxis": {
         "anchor": "y",
         "domain": [
          0,
          1
         ],
         "title": {
          "text": "Periodo"
         }
        },
        "yaxis": {
         "anchor": "x",
         "domain": [
          0,
          1
         ],
         "title": {
          "text": "Clientes (%)"
         }
        }
       }
      }
     },
     "metadata": {},
     "output_type": "display_data"
    }
   ],
   "source": [
    "fig = px.bar(df_mora_time, x='aniomes', y='proportion', title='Target Proportion',color='target',barmode='group',text='count',color_discrete_sequence=[paleta.color_red,paleta.color_grey_3])\n",
    "fig.update_traces(texttemplate='%{y:.1f}%<br>(%{text})', textposition='outside', textfont_size=12)\n",
    "# legend title\n",
    "fig.update_layout(legend_title_text='En Mora')\n",
    "fig.update_yaxes(title_text='Clientes (%)')\n",
    "fig.update_xaxes(title_text='Periodo')\n",
    "fig.update_layout(\n",
    "    height=800, \n",
    "    width=1000,\n",
    "    title_text=\"Distribución de Clientes que caen en Cartera por Mes\", \n",
    "    title_x=0.5,  \n",
    "    title_font_size=16  \n",
    ")\n",
    "fig.show()\n",
    "fig.write_image(str(FIGURES_DIR / 'clientes_mora_distribution_time.svg'))\n",
    "fig.write_image(str(FIGURES_DIR / 'clientes_mora_distribution_time.png'))\n"
   ]
  },
  {
   "cell_type": "markdown",
   "metadata": {},
   "source": [
    "## Arquetipo de la Persona que ha caido en mora"
   ]
  },
  {
   "cell_type": "code",
   "execution_count": null,
   "metadata": {},
   "outputs": [],
   "source": []
  },
  {
   "cell_type": "markdown",
   "metadata": {},
   "source": [
    "- graficar las salidas por mes\n",
    "- graficar el target, en cantidad y proporcion\n",
    "- histograma de la edad (target)\n",
    "- histograma de arpu (target)\n",
    "- histograma de la edad(target)\n"
   ]
  }
 ],
 "metadata": {
  "kernelspec": {
   "display_name": ".venv",
   "language": "python",
   "name": "python3"
  },
  "language_info": {
   "codemirror_mode": {
    "name": "ipython",
    "version": 3
   },
   "file_extension": ".py",
   "mimetype": "text/x-python",
   "name": "python",
   "nbconvert_exporter": "python",
   "pygments_lexer": "ipython3",
   "version": "3.12.3"
  }
 },
 "nbformat": 4,
 "nbformat_minor": 2
}
